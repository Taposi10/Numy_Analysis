{
 "cells": [
  {
   "cell_type": "code",
   "execution_count": 2,
   "id": "f7275c19-2904-402b-993f-74fa170be0e8",
   "metadata": {},
   "outputs": [
    {
     "data": {
      "text/plain": [
       "[-1, 0, 1]"
      ]
     },
     "execution_count": 2,
     "metadata": {},
     "output_type": "execute_result"
    }
   ],
   "source": [
    "import numpy as np \n",
    "#creating numpy arrays\n",
    "my_list=[-1,0,1]\n",
    "my_list"
   ]
  },
  {
   "cell_type": "code",
   "execution_count": 4,
   "id": "8ea28b8e-a15b-440f-ad9f-252256e5bcfb",
   "metadata": {},
   "outputs": [
    {
     "data": {
      "text/plain": [
       "array([-1,  0,  1])"
      ]
     },
     "execution_count": 4,
     "metadata": {},
     "output_type": "execute_result"
    }
   ],
   "source": [
    "my_array=np.array(my_list)\n",
    "my_array"
   ]
  },
  {
   "cell_type": "code",
   "execution_count": 8,
   "id": "155064b0-a3ec-4bf2-9aac-0bff55d70079",
   "metadata": {},
   "outputs": [
    {
     "name": "stdout",
     "output_type": "stream",
     "text": [
      "<class 'numpy.ndarray'>\n",
      "<class 'list'>\n"
     ]
    }
   ],
   "source": [
    "print(type(my_array))\n",
    "print(type(my_list))"
   ]
  },
  {
   "cell_type": "code",
   "execution_count": 9,
   "id": "b441211c-e6d8-4269-a7f7-c9315736155a",
   "metadata": {},
   "outputs": [
    {
     "data": {
      "text/plain": [
       "[[1, 2, 3, 4], [5, 6, 7, 8], [9, 10, 11, 12], [13, 14, 15, 16]]"
      ]
     },
     "execution_count": 9,
     "metadata": {},
     "output_type": "execute_result"
    }
   ],
   "source": [
    "my_array2=[[1,2,3,4],[5,6,7,8],[9,10,11,12],[13,14,15,16]]\n",
    "my_array2"
   ]
  },
  {
   "cell_type": "code",
   "execution_count": 11,
   "id": "c5d7cf46-8e9a-4869-b936-e3b1759d385d",
   "metadata": {},
   "outputs": [
    {
     "data": {
      "text/plain": [
       "array([[ 1,  2,  3,  4],\n",
       "       [ 5,  6,  7,  8],\n",
       "       [ 9, 10, 11, 12],\n",
       "       [13, 14, 15, 16]])"
      ]
     },
     "execution_count": 11,
     "metadata": {},
     "output_type": "execute_result"
    }
   ],
   "source": [
    "creat_array=np.array(my_array2)\n",
    "creat_array"
   ]
  },
  {
   "cell_type": "code",
   "execution_count": 12,
   "id": "473b9967-f0a5-4103-bcd8-dc6805de3a20",
   "metadata": {},
   "outputs": [
    {
     "data": {
      "text/plain": [
       "numpy.ndarray"
      ]
     },
     "execution_count": 12,
     "metadata": {},
     "output_type": "execute_result"
    }
   ],
   "source": [
    "type(creat_array)"
   ]
  },
  {
   "cell_type": "code",
   "execution_count": 13,
   "id": "03397172-dcf0-4287-b83c-06346a51029f",
   "metadata": {},
   "outputs": [
    {
     "data": {
      "text/plain": [
       "tuple"
      ]
     },
     "execution_count": 13,
     "metadata": {},
     "output_type": "execute_result"
    }
   ],
   "source": [
    "tpl=(1,2,3,4,5)\n",
    "type(tpl)"
   ]
  },
  {
   "cell_type": "code",
   "execution_count": 35,
   "id": "78f04906-9304-4091-a52e-cd3d265202b2",
   "metadata": {},
   "outputs": [
    {
     "name": "stdout",
     "output_type": "stream",
     "text": [
      "[ 0  1  2  3  4  5  6  7  8  9 10 11 12 13 14 15]\n",
      "(16,)\n",
      "[[ 0  1  2  3]\n",
      " [ 4  5  6  7]\n",
      " [ 8  9 10 11]\n",
      " [12 13 14 15]]\n"
     ]
    }
   ],
   "source": [
    "#creating arrays using numpy built in function\n",
    "arr=np.arange(0,16)\n",
    "print(arr)\n",
    "print(arr.shape)\n",
    "print(arr.reshape(4,4))"
   ]
  },
  {
   "cell_type": "code",
   "execution_count": 28,
   "id": "e0f8bba8-4118-46c0-a99a-3a6af21dc5c9",
   "metadata": {},
   "outputs": [
    {
     "data": {
      "text/plain": [
       "(array([ 1.        ,  1.19191919,  1.38383838,  1.57575758,  1.76767677,\n",
       "         1.95959596,  2.15151515,  2.34343434,  2.53535354,  2.72727273,\n",
       "         2.91919192,  3.11111111,  3.3030303 ,  3.49494949,  3.68686869,\n",
       "         3.87878788,  4.07070707,  4.26262626,  4.45454545,  4.64646465,\n",
       "         4.83838384,  5.03030303,  5.22222222,  5.41414141,  5.60606061,\n",
       "         5.7979798 ,  5.98989899,  6.18181818,  6.37373737,  6.56565657,\n",
       "         6.75757576,  6.94949495,  7.14141414,  7.33333333,  7.52525253,\n",
       "         7.71717172,  7.90909091,  8.1010101 ,  8.29292929,  8.48484848,\n",
       "         8.67676768,  8.86868687,  9.06060606,  9.25252525,  9.44444444,\n",
       "         9.63636364,  9.82828283, 10.02020202, 10.21212121, 10.4040404 ,\n",
       "        10.5959596 , 10.78787879, 10.97979798, 11.17171717, 11.36363636,\n",
       "        11.55555556, 11.74747475, 11.93939394, 12.13131313, 12.32323232,\n",
       "        12.51515152, 12.70707071, 12.8989899 , 13.09090909, 13.28282828,\n",
       "        13.47474747, 13.66666667, 13.85858586, 14.05050505, 14.24242424,\n",
       "        14.43434343, 14.62626263, 14.81818182, 15.01010101, 15.2020202 ,\n",
       "        15.39393939, 15.58585859, 15.77777778, 15.96969697, 16.16161616,\n",
       "        16.35353535, 16.54545455, 16.73737374, 16.92929293, 17.12121212,\n",
       "        17.31313131, 17.50505051, 17.6969697 , 17.88888889, 18.08080808,\n",
       "        18.27272727, 18.46464646, 18.65656566, 18.84848485, 19.04040404,\n",
       "        19.23232323, 19.42424242, 19.61616162, 19.80808081, 20.        ]),\n",
       " 0.1919191919191919)"
      ]
     },
     "execution_count": 28,
     "metadata": {},
     "output_type": "execute_result"
    }
   ],
   "source": [
    "arr2=np.linspace(1,20,100, retstep=True)\n",
    "arr2"
   ]
  },
  {
   "cell_type": "code",
   "execution_count": 41,
   "id": "301e3fde-2675-45a2-8a73-5d47edc5990a",
   "metadata": {},
   "outputs": [
    {
     "name": "stdout",
     "output_type": "stream",
     "text": [
      "[[0.82723031 0.17324334 0.67452787 0.38311203 0.59083916 0.47390083\n",
      "  0.35692582 0.89648151 0.19063073 0.25118048 0.58965505 0.15812703\n",
      "  0.61254911 0.97130583 0.0422164  0.39094216 0.40180587 0.61691883\n",
      "  0.62611989 0.80425421 0.19418828 0.09178203 0.60388942 0.62630655\n",
      "  0.15530029 0.11635238 0.96191598 0.78532671 0.95506778 0.95685453\n",
      "  0.915278   0.63429916 0.4400651  0.74108155 0.37643147 0.45906831\n",
      "  0.84719544 0.19353047 0.66207307 0.09430685 0.5653506  0.79269315\n",
      "  0.8871137  0.77107817 0.27897107 0.71826035 0.14958104 0.93560356\n",
      "  0.41597939 0.67213103 0.22398976 0.60155323 0.07831707 0.8328341\n",
      "  0.86525325 0.06968288 0.02102783 0.65107927 0.97781731 0.87687012\n",
      "  0.34480484 0.55848381 0.15884152 0.3721893  0.08355453 0.68651304\n",
      "  0.38054893 0.23335663 0.04880997 0.58103959 0.23597483 0.34797941\n",
      "  0.79556327 0.3922185  0.83884472 0.21905632 0.39654442 0.3482917\n",
      "  0.79258741 0.91574356 0.87302031 0.6023139  0.51257723 0.97255929\n",
      "  0.51695251 0.91842961 0.12123856 0.40229578 0.21456827 0.94373408\n",
      "  0.2106286  0.51919457 0.22222812 0.19689201 0.88171255 0.32389142\n",
      "  0.95297367 0.20190529 0.31722085 0.71551322]]\n"
     ]
    }
   ],
   "source": [
    "#random function\n",
    "#follows normal distributation\n",
    "rand_func=np.random.rand(1,100)\n",
    "print(rand_func)\n",
    "\n"
   ]
  },
  {
   "cell_type": "code",
   "execution_count": 42,
   "id": "ec745c44-e5ee-45e9-94b1-03421124cc9e",
   "metadata": {},
   "outputs": [
    {
     "name": "stdout",
     "output_type": "stream",
     "text": [
      "[ 4 18 13]\n"
     ]
    }
   ],
   "source": [
    "randint_func=np.random.randint(0,20,3)\n",
    "print(randint_func)"
   ]
  },
  {
   "cell_type": "code",
   "execution_count": 51,
   "id": "78b59e5c-a314-4bea-8b73-94d9ad720ac9",
   "metadata": {},
   "outputs": [
    {
     "data": {
      "text/plain": [
       "array([[341, 383, 334, 399, 456, 438, 465, 170, 298, 282],\n",
       "       [100, 450, 475, 214, 204, 309, 398, 292, 272, 187],\n",
       "       [333, 179, 433, 160, 276, 369, 372, 434, 195, 100],\n",
       "       [210, 238, 241, 262, 269, 322, 261, 449, 373, 162],\n",
       "       [186, 316, 374, 229, 355, 274, 287, 243, 286, 399],\n",
       "       [306, 296, 218, 498, 128, 397, 330, 181, 178, 333],\n",
       "       [112, 440, 264, 476, 187, 101, 485, 285, 171, 269],\n",
       "       [229, 296, 349, 394, 290, 138, 377, 296, 219, 199],\n",
       "       [447, 126, 320, 368, 448, 460, 137, 113, 437, 115],\n",
       "       [153, 309, 149, 196, 381, 378, 484, 261, 121, 249]])"
      ]
     },
     "execution_count": 51,
     "metadata": {},
     "output_type": "execute_result"
    }
   ],
   "source": [
    "x=np.random.randint(100,500,100).reshape(10,10)\n",
    "x"
   ]
  },
  {
   "cell_type": "code",
   "execution_count": 52,
   "id": "a7f31794-056b-4799-abe9-edb832df5746",
   "metadata": {},
   "outputs": [
    {
     "data": {
      "text/plain": [
       "53"
      ]
     },
     "execution_count": 52,
     "metadata": {},
     "output_type": "execute_result"
    }
   ],
   "source": [
    "#argmax,argmin,max,min function.\n",
    "x.argmax()"
   ]
  },
  {
   "cell_type": "code",
   "execution_count": 53,
   "id": "917962ce-a226-4ef1-be62-b6be62e0ba29",
   "metadata": {},
   "outputs": [
    {
     "data": {
      "text/plain": [
       "10"
      ]
     },
     "execution_count": 53,
     "metadata": {},
     "output_type": "execute_result"
    }
   ],
   "source": [
    "x.argmin()"
   ]
  },
  {
   "cell_type": "code",
   "execution_count": 54,
   "id": "3719b05c-0ee1-433a-b381-b8c4ff0cf487",
   "metadata": {},
   "outputs": [
    {
     "data": {
      "text/plain": [
       "498"
      ]
     },
     "execution_count": 54,
     "metadata": {},
     "output_type": "execute_result"
    }
   ],
   "source": [
    "x.max()"
   ]
  },
  {
   "cell_type": "code",
   "execution_count": 55,
   "id": "288cfe02-71be-4439-83fb-f3b907beeaca",
   "metadata": {},
   "outputs": [
    {
     "data": {
      "text/plain": [
       "100"
      ]
     },
     "execution_count": 55,
     "metadata": {},
     "output_type": "execute_result"
    }
   ],
   "source": [
    "x.min()"
   ]
  },
  {
   "cell_type": "code",
   "execution_count": 65,
   "id": "c11de15b-778f-4272-a8c7-8a7a47847390",
   "metadata": {},
   "outputs": [
    {
     "data": {
      "text/plain": [
       "array([ 2,  0, 12])"
      ]
     },
     "execution_count": 65,
     "metadata": {},
     "output_type": "execute_result"
    }
   ],
   "source": [
    "#indexing and slicing\n",
    "array_1d=np.array([2,0,12,34,13,87,45])\n",
    "array_1d[0:3]"
   ]
  },
  {
   "cell_type": "code",
   "execution_count": 67,
   "id": "e1d455ef-4a90-4d57-9380-819d0378d909",
   "metadata": {},
   "outputs": [
    {
     "data": {
      "text/plain": [
       "87"
      ]
     },
     "execution_count": 67,
     "metadata": {},
     "output_type": "execute_result"
    }
   ],
   "source": [
    "array_1d[-2]"
   ]
  },
  {
   "cell_type": "code",
   "execution_count": 70,
   "id": "f65951f5-b6c1-42cd-9080-64509fb170bc",
   "metadata": {},
   "outputs": [
    {
     "data": {
      "text/plain": [
       "array([ 0,  1,  2,  3,  4,  5,  6,  7,  8,  9, 10, 11, 12, 13, 14, 15, 16,\n",
       "       17, 18, 19, 20, 21, 22, 23, 24, 25, 26, 27, 28, 29, 30, 31, 32, 33,\n",
       "       34, 35, 36, 37, 38, 39, 40, 41, 42, 43, 44, 45, 46, 47, 48, 49, 50,\n",
       "       51, 52, 53, 54, 55, 56, 57, 58, 59, 60, 61, 62, 63, 64, 65, 66, 67,\n",
       "       68, 69, 70, 71, 72, 73, 74, 75, 76, 77, 78, 79, 80, 81, 82, 83, 84,\n",
       "       85, 86, 87, 88, 89, 90, 91, 92, 93, 94, 95, 96, 97, 98, 99])"
      ]
     },
     "execution_count": 70,
     "metadata": {},
     "output_type": "execute_result"
    }
   ],
   "source": [
    "#broadcasting \n",
    "array_2d=np.arange(0,100)\n",
    "array_2d"
   ]
  },
  {
   "cell_type": "code",
   "execution_count": 71,
   "id": "fd549a60-de70-4bad-97cc-76e557beeca2",
   "metadata": {},
   "outputs": [
    {
     "data": {
      "text/plain": [
       "array([[ 0,  1,  2,  3,  4,  5,  6,  7,  8,  9],\n",
       "       [10, 11, 12, 13, 14, 15, 16, 17, 18, 19],\n",
       "       [20, 21, 22, 23, 24, 25, 26, 27, 28, 29],\n",
       "       [30, 31, 32, 33, 34, 35, 36, 37, 38, 39],\n",
       "       [40, 41, 42, 43, 44, 45, 46, 47, 48, 49],\n",
       "       [50, 51, 52, 53, 54, 55, 56, 57, 58, 59],\n",
       "       [60, 61, 62, 63, 64, 65, 66, 67, 68, 69],\n",
       "       [70, 71, 72, 73, 74, 75, 76, 77, 78, 79],\n",
       "       [80, 81, 82, 83, 84, 85, 86, 87, 88, 89],\n",
       "       [90, 91, 92, 93, 94, 95, 96, 97, 98, 99]])"
      ]
     },
     "execution_count": 71,
     "metadata": {},
     "output_type": "execute_result"
    }
   ],
   "source": [
    "x=array_2d.reshape(10,10)\n",
    "x"
   ]
  },
  {
   "cell_type": "code",
   "execution_count": 73,
   "id": "bb48f47e-e115-4983-8059-f401ae6d6414",
   "metadata": {},
   "outputs": [
    {
     "data": {
      "text/plain": [
       "array([20, 21, 22, 23, 24, 25, 26, 27, 28, 29])"
      ]
     },
     "execution_count": 73,
     "metadata": {},
     "output_type": "execute_result"
    }
   ],
   "source": [
    "x[2]"
   ]
  },
  {
   "cell_type": "code",
   "execution_count": 74,
   "id": "a142ab5b-93a4-42dc-b613-35b1b7474763",
   "metadata": {},
   "outputs": [
    {
     "data": {
      "text/plain": [
       "52"
      ]
     },
     "execution_count": 74,
     "metadata": {},
     "output_type": "execute_result"
    }
   ],
   "source": [
    "x[5][2]"
   ]
  },
  {
   "cell_type": "code",
   "execution_count": 75,
   "id": "c4fa5537-7f35-4fdd-b4a2-f6dd489b0cfc",
   "metadata": {},
   "outputs": [],
   "source": [
    "#broadcasting\n",
    "x[0:4]=10"
   ]
  },
  {
   "cell_type": "code",
   "execution_count": 76,
   "id": "8ddec1ac-0e72-48c4-a080-03a0814a0d1e",
   "metadata": {},
   "outputs": [
    {
     "data": {
      "text/plain": [
       "array([[10, 10, 10, 10, 10, 10, 10, 10, 10, 10],\n",
       "       [10, 10, 10, 10, 10, 10, 10, 10, 10, 10],\n",
       "       [10, 10, 10, 10, 10, 10, 10, 10, 10, 10],\n",
       "       [10, 10, 10, 10, 10, 10, 10, 10, 10, 10],\n",
       "       [40, 41, 42, 43, 44, 45, 46, 47, 48, 49],\n",
       "       [50, 51, 52, 53, 54, 55, 56, 57, 58, 59],\n",
       "       [60, 61, 62, 63, 64, 65, 66, 67, 68, 69],\n",
       "       [70, 71, 72, 73, 74, 75, 76, 77, 78, 79],\n",
       "       [80, 81, 82, 83, 84, 85, 86, 87, 88, 89],\n",
       "       [90, 91, 92, 93, 94, 95, 96, 97, 98, 99]])"
      ]
     },
     "execution_count": 76,
     "metadata": {},
     "output_type": "execute_result"
    }
   ],
   "source": [
    "x"
   ]
  },
  {
   "cell_type": "code",
   "execution_count": 82,
   "id": "c913ee14-9dfc-4cf6-9526-25079ddf872e",
   "metadata": {},
   "outputs": [
    {
     "data": {
      "text/plain": [
       "array([[1, 1, 1, 1],\n",
       "       [1, 1, 1, 1],\n",
       "       [1, 1, 1, 1],\n",
       "       [1, 1, 1, 1]])"
      ]
     },
     "execution_count": 82,
     "metadata": {},
     "output_type": "execute_result"
    }
   ],
   "source": [
    "#ones\n",
    "one_f=np.ones((4,4), dtype=int)\n",
    "one_f"
   ]
  },
  {
   "cell_type": "code",
   "execution_count": 83,
   "id": "9607ec15-f095-47f8-8803-ff6252020d2d",
   "metadata": {},
   "outputs": [
    {
     "data": {
      "text/plain": [
       "array([[0, 0, 0, 0],\n",
       "       [0, 0, 0, 0],\n",
       "       [0, 0, 0, 0],\n",
       "       [0, 0, 0, 0]])"
      ]
     },
     "execution_count": 83,
     "metadata": {},
     "output_type": "execute_result"
    }
   ],
   "source": [
    "zero_fun=np.zeros((4,4), dtype=int)\n",
    "zero_fun"
   ]
  },
  {
   "cell_type": "code",
   "execution_count": 85,
   "id": "5304ff37-d085-4bbd-a50c-28726c538518",
   "metadata": {},
   "outputs": [
    {
     "name": "stdout",
     "output_type": "stream",
     "text": [
      "[ 1  2  3  4  5  6  7  8  9 10]\n",
      "[False False False  True  True  True  True  True  True  True]\n"
     ]
    }
   ],
   "source": [
    "#applying condition\n",
    "con_fun=np.arange(1,11)\n",
    "print(con_fun)\n",
    "print(con_fun>3)"
   ]
  },
  {
   "cell_type": "code",
   "execution_count": 86,
   "id": "5f9355d9-b5d5-47c7-8401-266dc77ed888",
   "metadata": {},
   "outputs": [
    {
     "name": "stdout",
     "output_type": "stream",
     "text": [
      "[1 0 1 0 1 0 1 0 1 0]\n"
     ]
    }
   ],
   "source": [
    "print(con_fun%2)"
   ]
  },
  {
   "cell_type": "code",
   "execution_count": 94,
   "id": "274097a0-f328-46ae-b181-f80cac9142a1",
   "metadata": {},
   "outputs": [
    {
     "name": "stdout",
     "output_type": "stream",
     "text": [
      "[ 0  1  2  3  4  5  6  7  8  9 10 11 12 13 14 15]\n",
      "[1 1 1 1 1 1 1 1 1 1 1 1 1 1 1 1]\n",
      "[ 1  2  3  4  5  6  7  8  9 10 11 12 13 14 15 16]\n",
      "[ 0  1  2  3  4  5  6  7  8  9 10 11 12 13 14 15]\n",
      "[ 0.  1.  2.  3.  4.  5.  6.  7.  8.  9. 10. 11. 12. 13. 14. 15.]\n"
     ]
    }
   ],
   "source": [
    "#arithmatic operation\n",
    "y=np.arange(0,16)\n",
    "z=np.random.randint(1,2,16)\n",
    "print(y)\n",
    "print(z)\n",
    "print(y+z)\n",
    "print(y*z)\n",
    "print(y/z)\n"
   ]
  },
  {
   "cell_type": "code",
   "execution_count": 97,
   "id": "6ebf832e-9c8c-4476-a871-1806fde617de",
   "metadata": {},
   "outputs": [
    {
     "name": "stdout",
     "output_type": "stream",
     "text": [
      "[0.         1.         1.41421356 1.73205081 2.         2.23606798\n",
      " 2.44948974 2.64575131 2.82842712 3.         3.16227766 3.31662479\n",
      " 3.46410162 3.60555128 3.74165739 3.87298335]\n",
      "[ 0.          0.84147098  0.90929743  0.14112001 -0.7568025  -0.95892427\n",
      " -0.2794155   0.6569866   0.98935825  0.41211849 -0.54402111 -0.99999021\n",
      " -0.53657292  0.42016704  0.99060736  0.65028784]\n",
      "<class 'numpy.ndarray'>\n"
     ]
    }
   ],
   "source": [
    "#universal function\n",
    "array=np.arange(0,16)\n",
    "print(np.sqrt(array))\n",
    "print(np.sin(array))\n",
    "print(type(array))\n"
   ]
  },
  {
   "cell_type": "code",
   "execution_count": 100,
   "id": "e2b968eb-ac81-4e60-83a6-cae3352f576c",
   "metadata": {},
   "outputs": [
    {
     "name": "stdout",
     "output_type": "stream",
     "text": [
      "[7 2 3 4 5 6]\n",
      "[7 2 3 4 5 6]\n"
     ]
    }
   ],
   "source": [
    "#numpy array copy vs view\n",
    "data=np.array([1,2,3,4,5,6])\n",
    "copy_data=data.copy()\n",
    "data[0]=7\n",
    "print(data)\n"
   ]
  },
  {
   "cell_type": "code",
   "execution_count": 105,
   "id": "7f4a4510-86e1-47f8-84ec-05a63e8811f4",
   "metadata": {},
   "outputs": [
    {
     "name": "stdout",
     "output_type": "stream",
     "text": [
      "[ 3  5  4  9 10]\n",
      "[ 3  5  4  9 10]\n"
     ]
    }
   ],
   "source": [
    "data2=np.array([3,5,7,9,10])\n",
    "view_data=data2.view()\n",
    "data2[2]=4\n",
    "print(data2)\n",
    "print(view_data)"
   ]
  },
  {
   "cell_type": "code",
   "execution_count": 106,
   "id": "0de81038-974e-43f0-8f65-ab93934f622d",
   "metadata": {},
   "outputs": [
    {
     "name": "stdout",
     "output_type": "stream",
     "text": [
      "[ 1  2  3  4  5  6  7  8  9 10  1  2  3  4  5  6  7  8  9 10]\n"
     ]
    }
   ],
   "source": [
    "#numpy joining\n",
    "#1D array\n",
    "b=np.array([1,2,3,4,5,6,7,8,9,10])\n",
    "c=np.array([1,2,3,4,5,6,7,8,9,10])\n",
    "concate_fun=np.concatenate((b,c))\n",
    "print(concate_fun)"
   ]
  },
  {
   "cell_type": "code",
   "execution_count": 109,
   "id": "75d27835-43c1-4f70-b589-c736c478b50c",
   "metadata": {},
   "outputs": [
    {
     "name": "stdout",
     "output_type": "stream",
     "text": [
      "[[ 1  2  3]\n",
      " [ 4  5  6]\n",
      " [ 7  8  9]\n",
      " [10 11 12]]\n"
     ]
    }
   ],
   "source": [
    "#2D array\n",
    "arr_2d_1=[[1,2,3],[4,5,6]]\n",
    "arr_2d_2=[[7,8,9],[10,11,12]]\n",
    "conct_arr_2d=np.concatenate((arr_2d_1, arr_2d_2), axis=0)\n",
    "print(conct_arr_2d)"
   ]
  },
  {
   "cell_type": "code",
   "execution_count": 112,
   "id": "59dd909e-0ff8-4722-b57f-ba18f2ff90ca",
   "metadata": {},
   "outputs": [
    {
     "data": {
      "text/plain": [
       "[array([1, 2, 3, 4]), array([5, 6, 7]), array([ 8,  9, 10])]"
      ]
     },
     "execution_count": 112,
     "metadata": {},
     "output_type": "execute_result"
    }
   ],
   "source": [
    "#array_split function\n",
    "new_array=np.array([1,2,3,4,5,6,7,8,9,10])\n",
    "x_split=np.array_split(new_array,3)\n",
    "x_split"
   ]
  },
  {
   "cell_type": "code",
   "execution_count": 113,
   "id": "91d2868c-d668-4664-a8b5-8bd3e123ff2e",
   "metadata": {},
   "outputs": [
    {
     "name": "stdout",
     "output_type": "stream",
     "text": [
      "(array([4], dtype=int64),)\n"
     ]
    }
   ],
   "source": [
    "#numpy searching array\n",
    "new_array=np.array([1,2,3,4,5,6,7,8,9,10])\n",
    "x=np.where(new_array==5)\n",
    "print(x)"
   ]
  },
  {
   "cell_type": "code",
   "execution_count": null,
   "id": "d9d7da0a-35db-49ba-aea8-a4f1f2fba929",
   "metadata": {},
   "outputs": [],
   "source": [
    "#numpy sorting\n",
    "new_array=np.array([11,26,23,40,57,62,79,8,9,10])"
   ]
  }
 ],
 "metadata": {
  "kernelspec": {
   "display_name": "Python 3 (ipykernel)",
   "language": "python",
   "name": "python3"
  },
  "language_info": {
   "codemirror_mode": {
    "name": "ipython",
    "version": 3
   },
   "file_extension": ".py",
   "mimetype": "text/x-python",
   "name": "python",
   "nbconvert_exporter": "python",
   "pygments_lexer": "ipython3",
   "version": "3.11.4"
  }
 },
 "nbformat": 4,
 "nbformat_minor": 5
}
